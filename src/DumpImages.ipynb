{
 "cells": [
  {
   "cell_type": "code",
   "execution_count": null,
   "metadata": {
    "collapsed": false
   },
   "outputs": [],
   "source": [
    "#!/usr/bin/env python3\n",
    "\n",
    "import joblib\n",
    "from glob import glob\n",
    "import os \n",
    "import cv2\n",
    "\n",
    "fileDir = '../data/'\n",
    "\n",
    "files = glob(os.path.join(fileDir, '*.jpg'))\n",
    "\n",
    "all_imgs = []\n",
    "for f in files:\n",
    "    img = cv2.imread(f, cv2.IMREAD_COLOR)\n",
    "    img = img[:, :, ::-1]\n",
    "    img = cv2.resize(img, (64, 64), interpolation=cv2.INTER_AREA)\n",
    "    img = img / 255.0\n",
    "\n",
    "    all_imgs.append(img)\n",
    "\n",
    "joblib.dump(all_imgs, \"../all_images_aug.pkl\")"
   ]
  }
 ],
 "metadata": {
  "anaconda-cloud": {},
  "kernelspec": {
   "display_name": "Python [tensorflow-gpu]",
   "language": "python",
   "name": "Python [tensorflow-gpu]"
  },
  "language_info": {
   "codemirror_mode": {
    "name": "ipython",
    "version": 3
   },
   "file_extension": ".py",
   "mimetype": "text/x-python",
   "name": "python",
   "nbconvert_exporter": "python",
   "pygments_lexer": "ipython3",
   "version": "3.5.2"
  }
 },
 "nbformat": 4,
 "nbformat_minor": 0
}
