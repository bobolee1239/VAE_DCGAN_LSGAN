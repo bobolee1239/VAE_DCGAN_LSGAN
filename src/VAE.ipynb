{
 "cells": [
  {
   "cell_type": "code",
   "execution_count": 1,
   "metadata": {
    "collapsed": true
   },
   "outputs": [],
   "source": [
    "#!/usr/bin/env python3"
   ]
  },
  {
   "cell_type": "code",
   "execution_count": 2,
   "metadata": {
    "collapsed": true
   },
   "outputs": [],
   "source": [
    "%matplotlib inline\n",
    "import numpy as np \n",
    "import time \n",
    "from datetime import timedelta\n",
    "import tensorflow as tf\n",
    "from readImages import *\n",
    "from build_tensorflow_graph import *\n",
    "import matplotlib.pyplot as plt\n",
    "import math\n",
    "import random\n",
    "import joblib"
   ]
  },
  {
   "cell_type": "code",
   "execution_count": 3,
   "metadata": {
    "collapsed": true
   },
   "outputs": [],
   "source": [
    "def nextEpoch(imgs, batch_size = 128):\n",
    "    imgs = random.sample(imgs, len(imgs))\n",
    "    \n",
    "    numBatches = len(imgs) // batch_size\n",
    "    for i in range(numBatches):\n",
    "        yield imgs[i*batch_size : (i+1)*batch_size]"
   ]
  },
  {
   "cell_type": "code",
   "execution_count": 4,
   "metadata": {
    "collapsed": false
   },
   "outputs": [],
   "source": [
    "#\n",
    "## ---------- VAE Architecture ----------\n",
    "#\n",
    "\n",
    "# Convolution Layer 1\n",
    "numFilters1 = 16\n",
    "strides = 2\n",
    "cnnArchitecture1 = CNN_Architecture(numFilters = numFilters1, \n",
    "                                    filterSize = (3, 3), \n",
    "                                    strides = strides, \n",
    "                                    toPadding = True, \n",
    "                                    useReLU = True, \n",
    "                                    numInputChannels = 3, \n",
    "                                    maxPoolingSize=None)\n",
    "\n",
    "dcnnArchitecture1 = CNN_Architecture(numFilters = 3, \n",
    "                                    filterSize = (3, 3), \n",
    "                                    strides = strides, \n",
    "                                    toPadding = True, \n",
    "                                    useReLU = False, \n",
    "                                    numInputChannels = numFilters1, \n",
    "                                    maxPoolingSize=None)\n",
    "\n",
    "\n",
    "# Convolution Layer 2\n",
    "numFilters2 = 32\n",
    "cnnArchitecture2 = CNN_Architecture(numFilters = numFilters2, \n",
    "                                    filterSize = (3, 3), \n",
    "                                    strides = strides, \n",
    "                                    toPadding = True, \n",
    "                                    useReLU = True, \n",
    "                                    numInputChannels = numFilters1, \n",
    "                                    maxPoolingSize=None)\n",
    "\n",
    "dcnnArchitecture2 = CNN_Architecture(numFilters = numFilters1, \n",
    "                                    filterSize = (3, 3), \n",
    "                                    strides = strides, \n",
    "                                    toPadding = True, \n",
    "                                    useReLU = True, \n",
    "                                    numInputChannels = numFilters2, \n",
    "                                    maxPoolingSize=None)\n",
    "\n",
    "\n",
    "# Convolution Layer 3\n",
    "numFilters3 = 64\n",
    "cnnArchitecture3 = CNN_Architecture(numFilters = numFilters3,\n",
    "                                    filterSize = (3, 3), \n",
    "                                    strides = strides, \n",
    "                                    toPadding = True, \n",
    "                                    useReLU = True, \n",
    "                                    numInputChannels = numFilters2, \n",
    "                                    maxPoolingSize=None)\n",
    "dcnnArchitecture3 = CNN_Architecture(numFilters = numFilters2,\n",
    "                                    filterSize = (3, 3), \n",
    "                                    strides = strides, \n",
    "                                    toPadding = True, \n",
    "                                    useReLU = True, \n",
    "                                    numInputChannels = numFilters3, \n",
    "                                    maxPoolingSize=None)\n",
    "\n",
    "# Fully Connected 1\n",
    "fc1_size = 1024 \n",
    "# Fully Connected 2\n",
    "fc2_size = 512 \n",
    "# Lattern Code \n",
    "z_dim = 256 "
   ]
  },
  {
   "cell_type": "code",
   "execution_count": 5,
   "metadata": {
    "collapsed": true
   },
   "outputs": [],
   "source": [
    "#  \n",
    "#    input layer: 64 * 64 * 3 = 12288\n",
    "#    conv1 layer: 64 * 64 * 16 = 131072 / 2\n",
    "#    conv2 layer: 64 * 64 * 32 = 131072\n",
    "#    conv3 layer: 64 * 64 * 64 = 262144\n",
    "#    fc1_size = 1024\n",
    "#    fc2_size = 512\n",
    "#    z_dim = 256"
   ]
  },
  {
   "cell_type": "code",
   "execution_count": 6,
   "metadata": {
    "collapsed": true
   },
   "outputs": [],
   "source": [
    "class Image:\n",
    "    \"\"\"\n",
    "    Structure for input images\n",
    "    \"\"\"\n",
    "    size = 64\n",
    "    numChannels = 3"
   ]
  },
  {
   "cell_type": "code",
   "execution_count": 7,
   "metadata": {
    "collapsed": true
   },
   "outputs": [],
   "source": [
    "class VAE:\n",
    "    def __init__(self, batch_size, criterion=\"cross-entropy\"):\n",
    "        self.batch_size = batch_size \n",
    "        self.sess = tf.Session()\n",
    "        # ---------- build model ----------\n",
    "        bs = self.batch_size\n",
    "        self.inputImages = tf.placeholder(tf.float32, \n",
    "                                          shape=[bs, Image.size, Image.size, Image.numChannels])\n",
    "        self.lattenCode = tf.placeholder(tf.float32, shape= [None, z_dim])\n",
    "        self.mu, self.sigma = self.encoder(self.inputImages, is_training=True, reuse=False)\n",
    "        z = self.mu + \\\n",
    "               self.sigma * tf.random_normal(tf.shape(self.mu), 0, 1, dtype=tf.float32)\n",
    "        \n",
    "        # Reconstruct\n",
    "        reconstruct = self.decoder(z, is_training=True, reuse=False)\n",
    "        self.reconstruct = tf.clip_by_value(reconstruct, 1e-8, 1 - 1e-8)\n",
    "        \n",
    "        # Define Cost\n",
    "       \n",
    "        if criterion.lower() == 'cross-entropy':\n",
    "            cross_entropy = tf.reduce_sum(self.inputImages * tf.log(self.reconstruct) + \\\n",
    "                                           (1 - self.inputImages) * tf.log(1 - self.reconstruct), axis = [1, 2, 3])\n",
    "            klDivergence = 0.5*tf.reduce_sum(tf.square(self.mu) + tf.square(self.sigma) - tf.log(1e-8 + tf.square(self.sigma)) - 1, axis=[1])\n",
    "            self.cost = tf.reduce_mean(klDivergence - cross_entropy)\n",
    "        elif criterion.lower() == 'lms':\n",
    "            klDivergence = 0.5*tf.reduce_sum(tf.square(self.mu) + tf.square(self.sigma) - tf.log(1e-8 + tf.square(self.sigma)) - 1, axis=[1])\n",
    "            lms = tf.reduce_sum(tf.square(self.inputImages - self.reconstruct), axis = [1, 2, 3])\n",
    "            self.cost = tf.reduce_mean(klDivergence + lms)       \n",
    "        \n",
    "        else:\n",
    "            assert False, \"Wrong Argument!! criterion must be lms or cross-entropy\"\n",
    "            \n",
    "        self.optimizer = tf.train.AdamOptimizer(learning_rate=0.001).minimize(self.cost)\n",
    "        \n",
    "        # Testing\n",
    "        self.fake_images = self.decoder(self.lattenCode, is_training=False, reuse=True)\n",
    "        \n",
    "        \n",
    "    def encoder(self, inputLayer, is_training = True, reuse = False):\n",
    "        with tf.variable_scope(\"encoder\", reuse = reuse):\n",
    "            conv1, convWeights1 = new_convLayer(inputLayer, cnnArchitecture1, name=\"en_conv1\")\n",
    "            conv2, convWeights2 = new_convLayer(conv1, cnnArchitecture2, name=\"en_conv2\")\n",
    "            conv2 = bn(conv2, is_training=is_training, scope=\"en_bn2\")\n",
    "            conv3, convWeights3 = new_convLayer(conv2, cnnArchitecture3, name=\"en_conv3\")\n",
    "            conv3 = bn(conv3, is_training=is_training, scope=\"en_bn3\")\n",
    "            flat_layer, numAttrs = flattenLayer(conv3)\n",
    "            \n",
    "            self.flat_numAttrs = (numAttrs)\n",
    "            \n",
    "            fc1 = new_fcLayer(flat_layer, \n",
    "                              inputChannels = numAttrs, \n",
    "                              outputChannels = fc1_size,\n",
    "                              useReLU=True, \n",
    "                              name = \"en_fc4\")\n",
    "            fc1 = bn(fc1, is_training=is_training, scope=\"en_bn4\")\n",
    "            fc2 = new_fcLayer(fc1, \n",
    "                              inputChannels = fc1_size, \n",
    "                              outputChannels = fc2_size,\n",
    "                              useReLU=True, \n",
    "                              name = \"en_fc5\")\n",
    "            fc2 = bn(fc2, is_training=is_training, scope=\"en_bn5\")\n",
    "            gaussian_para = new_fcLayer(fc2, \n",
    "                                        inputChannels = fc2_size, \n",
    "                                        outputChannels = z_dim * 2,\n",
    "                                        useReLU=False, \n",
    "                                        name = \"en_fc6\")\n",
    "            mean = gaussian_para[:, :z_dim]\n",
    "            stdev = tf.exp(gaussian_para[:, z_dim:])\n",
    "            return mean, stdev\n",
    "        \n",
    "    def decoder(self, lattenCode, is_training = True, reuse = False):\n",
    "        with tf.variable_scope(\"decoder\", reuse=reuse):\n",
    "            dfc2 = new_fcLayer(lattenCode, \n",
    "                               inputChannels = z_dim, \n",
    "                               outputChannels = fc2_size,\n",
    "                               useReLU=True, \n",
    "                               name = \"de_fc1\")\n",
    "            dfc2 = bn(dfc2, is_training=is_training, scope=\"de_bn1\")\n",
    "            dfc1 = new_fcLayer(dfc2, \n",
    "                               inputChannels = fc2_size, \n",
    "                               outputChannels = fc1_size, \n",
    "                               useReLU = True, \n",
    "                               name = \"de_fc2\")\n",
    "            dfc1 = bn(dfc1, is_training=is_training, scope=\"de_bn2\")\n",
    "            dflat = new_fcLayer(dfc1, \n",
    "                                inputChannels = fc1_size,  \n",
    "                                outputChannels = self.flat_numAttrs, \n",
    "                                useReLU = True, \n",
    "                                name = \"de_conv3\")\n",
    "            dflat = bn(dflat, is_training=is_training, scope=\"de_bn3\")\n",
    "            dconv3 = tf.reshape(dflat, shape=[-1, Image.size // 8, Image.size // 8, numFilters3])\n",
    "            \n",
    "            dconv2 =  new_dconvLayer(dconv3, dcnnArchitecture3, \n",
    "                                     [self.batch_size, Image.size // 4 , Image.size // 4, numFilters2], name = \"de_conv4\")\n",
    "            dconv2 = bn(dconv2, is_training=is_training, scope=\"de_bn4\")\n",
    "            dconv1 =  new_dconvLayer(dconv2, dcnnArchitecture2, \n",
    "                                     [self.batch_size, Image.size // 2, Image.size // 2, numFilters1], name = \"de_conv5\")\n",
    "            dconv1 = bn(dconv1, is_training=is_training, scope=\"de_bn5\")\n",
    "            reconstruct = new_dconvLayer(dconv1, dcnnArchitecture1, \n",
    "                                         [self.batch_size, Image.size, Image.size, Image.numChannels], name = \"de_conv6\")\n",
    "            reconstruct = tf.nn.sigmoid(reconstruct)\n",
    "            return reconstruct\n",
    "    def train(self, fileDir, epochs = 100, saveModel = False):\n",
    "        costHistory = []\n",
    "        start = time.time()\n",
    "        print('  * Start Training ...')\n",
    "        self.sess.run(tf.global_variables_initializer())\n",
    "        all_imgs = joblib.load('../all_images.pkl')\n",
    "        for epoch in range(epochs):\n",
    "            print('  * processing epoch #{} '.format(epoch))\n",
    "            count = 0\n",
    "            for batch in nextEpoch(all_imgs, batch_size = self.batch_size):\n",
    "#             for batch in readImagesIn(directory=fileDir, size=(Image.size, Image.size), noiseStdev=0.0, batch_size = self.batch_size):\n",
    "                count += 1\n",
    "                feed_dict_train = {self.inputImages : batch}\n",
    "                _, cost = self.sess.run([self.optimizer, self.cost],feed_dict = feed_dict_train)\n",
    "                costHistory.append(cost)\n",
    "                \n",
    "                if count % 100 == 1:\n",
    "                    print('\\tepoch #{} , iterations #{}, cost = {}'.format(epoch, count, cost))\n",
    "                    \n",
    "            print('\\tDONE! cost: {}'.format(cost))\n",
    "                \n",
    "        \n",
    "        ## TODO...\n",
    "        # Dst tensor is not initialized Error while saving model\n",
    "        if saveModel:\n",
    "            saver = tf.train.Saver()\n",
    "            save_path = saver.save(self.sess, \"../models/model.ckpt\")\n",
    "            print(\"  * Model saved in path: %s\" % save_path)\n",
    "        # -------- Plot Learning Curve --------\n",
    "        plt.figure()\n",
    "        plt.title('Learning Curve')\n",
    "        plt.xlabel('# Iterations')\n",
    "        plt.ylabel('Cost (LMS + KL_Divergence)')\n",
    "        plt.plot(costHistory)\n",
    "        plt.savefig('../figure/VAE/LearningCurve.png')\n",
    "        \n",
    "        del all_imgs\n",
    "        return costHistory    \n",
    "        \n",
    "    def generateFakeImages(self):\n",
    "        z = np.random.normal(0, 1, size=(self.batch_size, z_dim))\n",
    "        feed_dict_test = {self.lattenCode : z }\n",
    "        fakeImg = self.sess.run(self.fake_images, feed_dict=feed_dict_test)\n",
    "        return fakeImg"
   ]
  },
  {
   "cell_type": "code",
   "execution_count": null,
   "metadata": {
    "collapsed": false
   },
   "outputs": [
    {
     "name": "stdout",
     "output_type": "stream",
     "text": [
      "  * Building Model ...  Finished!!\n"
     ]
    }
   ],
   "source": [
    "if __name__ == '__main__':\n",
    "    directory = '../faces/'\n",
    "#     imgs = readImagesIn(directory=directory, size=(64, 64), noiseStdev=0.03)\n",
    "    \n",
    "    batch_size = 100\n",
    "    print('  * Building Model ...', end=\"\")\n",
    "    vae = VAE(batch_size=batch_size, criterion=\"cross-entropy\")\n",
    "    print('  Finished!!')\n",
    "    \n",
    "    "
   ]
  },
  {
   "cell_type": "code",
   "execution_count": null,
   "metadata": {
    "collapsed": false,
    "scrolled": true
   },
   "outputs": [
    {
     "name": "stdout",
     "output_type": "stream",
     "text": [
      "  * Start Training ...\n"
     ]
    }
   ],
   "source": [
    "costHistory = vae.train(fileDir=directory, epochs = 50, saveModel = False)\n"
   ]
  },
  {
   "cell_type": "code",
   "execution_count": null,
   "metadata": {
    "collapsed": true
   },
   "outputs": [],
   "source": [
    "# vae.lattenCode = tf.placeholder(tf.float32, shape= [None, z_dim])\n",
    "# vae.fake_images = vae.decoder(vae.lattenCode, is_training=False, reuse=True)"
   ]
  },
  {
   "cell_type": "code",
   "execution_count": null,
   "metadata": {
    "collapsed": false,
    "scrolled": true
   },
   "outputs": [],
   "source": [
    "#\n",
    "## ---------- Reconstruct Images ----------\n",
    "#\n",
    "\n",
    "sampledImgs = sampleImagesIn(directory=directory, numImgs = vae.batch_size, size=(Image.size, Image.size), noiseStdev=0.0)\n",
    "feed_dict_valid = {vae.inputImages : sampledImgs }\n",
    "reconstructedImgs = vae.sess.run(vae.reconstruct, feed_dict=feed_dict_valid)\n",
    "\n",
    "plotImages(sampledImgs, savePath = '../figure/VAE/origin.png')\n",
    "plotImages(reconstructedImgs, savePath = '../figure/VAE/reconstruct.png')"
   ]
  },
  {
   "cell_type": "code",
   "execution_count": null,
   "metadata": {
    "collapsed": false,
    "scrolled": true
   },
   "outputs": [],
   "source": [
    "#\n",
    "## ---------- Fake Images ----------\n",
    "#\n",
    "\n",
    "\n",
    "# z = np.random.normal(0, 5, size=(batch_size, z_dim))\n",
    "# # z = np.random.uniform(-5, 5, size=(batch_size, z_dim))\n",
    "# feed_dict_test = {vae.lattenCode : z }\n",
    "# imgs = vae.sess.run(vae.fake_images, feed_dict=feed_dict_test)\n",
    "imgs = vae.generateFakeImages()\n",
    "plotImages(imgs, savePath = '../figure/VAE/generate.png')"
   ]
  },
  {
   "cell_type": "code",
   "execution_count": null,
   "metadata": {
    "collapsed": false
   },
   "outputs": [],
   "source": [
    "## TODO...\n",
    "# Dst tensor is not initialized Error while saving model\n",
    "saver = tf.train.Saver()\n",
    "save_path = saver.save(vae.sess, \"../models/VAE/model.ckpt\")"
   ]
  }
 ],
 "metadata": {
  "anaconda-cloud": {},
  "kernelspec": {
   "display_name": "Python [tensorflow-gpu]",
   "language": "python",
   "name": "Python [tensorflow-gpu]"
  },
  "language_info": {
   "codemirror_mode": {
    "name": "ipython",
    "version": 3
   },
   "file_extension": ".py",
   "mimetype": "text/x-python",
   "name": "python",
   "nbconvert_exporter": "python",
   "pygments_lexer": "ipython3",
   "version": "3.5.2"
  }
 },
 "nbformat": 4,
 "nbformat_minor": 2
}
